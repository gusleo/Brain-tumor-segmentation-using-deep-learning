{
  "nbformat": 4,
  "nbformat_minor": 0,
  "metadata": {
    "kernelspec": {
      "name": "python3",
      "display_name": "Python 3"
    },
    "language_info": {
      "codemirror_mode": {
        "name": "ipython",
        "version": 3
      },
      "file_extension": ".py",
      "mimetype": "text/x-python",
      "name": "python",
      "nbconvert_exporter": "python",
      "pygments_lexer": "ipython3",
      "version": "3.6.2"
    },
    "colab": {
      "name": "BraTS2017_LReLU_Bias.ipynb",
      "provenance": [],
      "collapsed_sections": [],
      "machine_shape": "hm"
    },
    "accelerator": "GPU"
  },
  "cells": [
    {
      "cell_type": "code",
      "metadata": {
        "id": "91IVGmoAMazX",
        "colab_type": "code",
        "outputId": "0c148d6d-5cfe-4cca-bddb-e0b147ae5eff",
        "colab": {
          "base_uri": "https://localhost:8080/",
          "height": 122
        }
      },
      "source": [
        "from google.colab import files\n",
        "from google.colab import drive\n",
        "drive.mount('/content/gdrive', force_remount=True)\n",
        "from google.colab import auth\n",
        "auth.authenticate_user()\n",
        "from oauth2client.client import GoogleCredentials\n",
        "creds = GoogleCredentials.get_application_default()"
      ],
      "execution_count": 0,
      "outputs": [
        {
          "output_type": "stream",
          "text": [
            "Go to this URL in a browser: https://accounts.google.com/o/oauth2/auth?client_id=947318989803-6bn6qk8qdgf4n4g3pfee6491hc0brc4i.apps.googleusercontent.com&redirect_uri=urn%3aietf%3awg%3aoauth%3a2.0%3aoob&response_type=code&scope=email%20https%3a%2f%2fwww.googleapis.com%2fauth%2fdocs.test%20https%3a%2f%2fwww.googleapis.com%2fauth%2fdrive%20https%3a%2f%2fwww.googleapis.com%2fauth%2fdrive.photos.readonly%20https%3a%2f%2fwww.googleapis.com%2fauth%2fpeopleapi.readonly\n",
            "\n",
            "Enter your authorization code:\n",
            "··········\n",
            "Mounted at /content/gdrive\n"
          ],
          "name": "stdout"
        }
      ]
    },
    {
      "cell_type": "code",
      "metadata": {
        "id": "vqtJYVB2MfB3",
        "colab_type": "code",
        "outputId": "c1c5154f-5e6e-4baa-caf5-edfe1efc6977",
        "colab": {
          "base_uri": "https://localhost:8080/",
          "height": 102
        }
      },
      "source": [
        "!pip install SimpleITK "
      ],
      "execution_count": 0,
      "outputs": [
        {
          "output_type": "stream",
          "text": [
            "Collecting SimpleITK\n",
            "\u001b[?25l  Downloading https://files.pythonhosted.org/packages/f8/d8/53338c34f71020725ffb3557846c80af96c29c03bc883551a2565aa68a7c/SimpleITK-1.2.4-cp36-cp36m-manylinux1_x86_64.whl (42.5MB)\n",
            "\u001b[K     |████████████████████████████████| 42.5MB 75kB/s \n",
            "\u001b[?25hInstalling collected packages: SimpleITK\n",
            "Successfully installed SimpleITK-1.2.4\n"
          ],
          "name": "stdout"
        }
      ]
    },
    {
      "cell_type": "code",
      "metadata": {
        "id": "8dSfUsh_MWUo",
        "colab_type": "code",
        "outputId": "9fc3cbf7-3ba1-48d1-a3f5-80bec079ae5f",
        "colab": {
          "base_uri": "https://localhost:8080/",
          "height": 80
        }
      },
      "source": [
        "import tensorflow as tf\n",
        "import numpy as np\n",
        "import matplotlib.pyplot as plt\n",
        "import skimage.io as io\n",
        "import skimage.color as color\n",
        "import random as r\n",
        "import math\n",
        "import os\n",
        "import gc\n",
        "from keras.models import Model\n",
        "from keras.layers import Dense, Dropout, Activation, Flatten\n",
        "from keras.layers import concatenate, Conv2D, MaxPooling2D, Conv2DTranspose\n",
        "from keras.layers import Input, merge, UpSampling2D,BatchNormalization\n",
        "from keras.callbacks import ModelCheckpoint\n",
        "from keras.optimizers import Adam\n",
        "from keras.preprocessing.image import ImageDataGenerator\n",
        "from keras import backend as K\n",
        "from tensorflow.contrib.tpu.python.tpu import keras_support\n",
        "import glob\n",
        "from tqdm import tqdm_notebook as tqdm\n",
        "from keras.models import load_model\n",
        "import pandas\n",
        "import cv2\n",
        "import SimpleITK as sitk"
      ],
      "execution_count": 0,
      "outputs": [
        {
          "output_type": "display_data",
          "data": {
            "text/html": [
              "<p style=\"color: red;\">\n",
              "The default version of TensorFlow in Colab will soon switch to TensorFlow 2.x.<br>\n",
              "We recommend you <a href=\"https://www.tensorflow.org/guide/migrate\" target=\"_blank\">upgrade</a> now \n",
              "or ensure your notebook will continue to use TensorFlow 1.x via the <code>%tensorflow_version 1.x</code> magic:\n",
              "<a href=\"https://colab.research.google.com/notebooks/tensorflow_version.ipynb\" target=\"_blank\">more info</a>.</p>\n"
            ],
            "text/plain": [
              "<IPython.core.display.HTML object>"
            ]
          },
          "metadata": {
            "tags": []
          }
        },
        {
          "output_type": "stream",
          "text": [
            "Using TensorFlow backend.\n"
          ],
          "name": "stderr"
        }
      ]
    },
    {
      "cell_type": "code",
      "metadata": {
        "id": "FK3N1QIlMWUv",
        "colab_type": "code",
        "outputId": "f32e0edb-5c76-4894-a400-9f67fb86b00b",
        "colab": {
          "base_uri": "https://localhost:8080/",
          "height": 34
        }
      },
      "source": [
        "K.set_image_data_format(\"channels_first\")\n",
        "experiment = \"Bias\"\n",
        "dataset_path = '/content/gdrive/My Drive/Thesis/N4DataValid/';\n",
        "destination_numpy = '/content/gdrive/My Drive/DatasetBias' \n",
        "destination_model = '/content/gdrive/My Drive/model' \n",
        "result_destination = '/content/gdrive/My Drive/Result/{}'.format(experiment)\n",
        "\n",
        "batch_size = 10\n",
        "start_epoch = 20\n",
        "continue_training = True\n",
        "img_size = 240      #original img size is 240*240\n",
        "smooth = 0.005 \n",
        "num_of_aug = 2\n",
        "num_epoch = start_epoch + 20\n",
        "pul_seq = 'Flair'\n",
        "sharp = False       # sharpen filter\n",
        "LR = 1e-4\n",
        "verbose = 0 if (num_epoch - start_epoch) > 30 else 1\n",
        "num_of_patch = 4 #must be a square number\n",
        "label_num = 5   # 1 = necrosis+NET, 2 = tumor core, 3= original, 4 = ET, 5 = complete tumor\n",
        "'''\n",
        "0: other\n",
        "1: necrosis + NET\n",
        "2: edema\n",
        "4: enhancing tumor\n",
        "5: full tumor\n",
        "'''"
      ],
      "execution_count": 0,
      "outputs": [
        {
          "output_type": "execute_result",
          "data": {
            "text/plain": [
              "'\\n0: other\\n1: necrosis + NET\\n2: edema\\n4: enhancing tumor\\n5: full tumor\\n'"
            ]
          },
          "metadata": {
            "tags": []
          },
          "execution_count": 4
        }
      ]
    },
    {
      "cell_type": "code",
      "metadata": {
        "id": "1pM5qEcTdA6i",
        "colab_type": "code",
        "colab": {}
      },
      "source": [
        "def extract_zip(path_zip, destination):\n",
        "  import zipfile  # For faster extraction\n",
        "  dataset_path = path_zip  # Replace with your dataset path\n",
        "  zfile = zipfile.ZipFile(dataset_path)\n",
        "  zfile.extractall(destination)\n",
        "  print(\"Extract Zip file done\")"
      ],
      "execution_count": 0,
      "outputs": []
    },
    {
      "cell_type": "code",
      "metadata": {
        "id": "Etbu0J2OdFJG",
        "colab_type": "code",
        "colab": {}
      },
      "source": [
        "#if os.path.isdir('/content/gdrive/My Drive/Thesis/MICCAI_BraTS17_Data_Training/') == False:\n",
        "  #extract_zip(\"/content/gdrive/My Drive/Thesis/MICCAI_BraTS17_Data_Training_IPP.zip\", \"/content/gdrive/My Drive/Thesis/\")\n",
        "#if os.path.isdir('/content/gdrive/My Drive/Thesis/N4DataValid/') == False:\n",
        "  #extract_zip(\"/content/gdrive/My Drive/Thesis/N4DataValid.zip\", \"/content/gdrive/My Drive/Thesis/\")"
      ],
      "execution_count": 0,
      "outputs": []
    },
    {
      "cell_type": "code",
      "metadata": {
        "id": "tjfFAPPbMWU2",
        "colab_type": "code",
        "colab": {}
      },
      "source": [
        "# function to read all data (training and label) and transform into numpy array\n",
        "\n",
        "def create_data(src, mask, scanType=\"flair\", augmented=False, label_num = 0, label=False, resize=(155,img_size,img_size)):\n",
        "    files = glob.glob(src + mask, recursive=True)\n",
        "    files.sort(reverse=True)\n",
        "    r.seed(9)\n",
        "    r.shuffle(files)    # shuffle patients\n",
        "    imgs = []\n",
        "    print('Processing---', mask)\n",
        "    for file in tqdm(files):\n",
        "        img = io.imread(file, plugin='simpleitk')\n",
        "        #img = trans.resize(img, resize, mode='constant')\n",
        "        if label:\n",
        "            if label_num == 5:\n",
        "                img[img != 0] = 1       #Region 1 => 1+2+3+4 complete tumor\n",
        "            if label_num == 1:\n",
        "                img[img != 1] = 0       #only left necrosis and NET\n",
        "            if label_num == 2:\n",
        "                img[img == 2] = 0       #turn edema to 0\n",
        "                img[img != 0] = 1       #only keep necrosis, ET, NET = Tumor core\n",
        "            if label_num == 4:\n",
        "                img[img != 4] = 0       #only left ET\n",
        "                img[img == 4] = 1\n",
        "            if label_num == 3:\n",
        "                img[img == 3] = 1       # remain GT, design for 2015 data\n",
        "                \n",
        "                \n",
        "            img = img.astype('float32')\n",
        "        else:\n",
        "            img = (img-img.mean()) / img.std()      #normalization => zero mean   !!!care for the std=0 problem\n",
        "            img = img.astype('float32')\n",
        "        for slice in range(60,130):     #choose the slice range\n",
        "            img_t = img[slice,:,:]\n",
        "            img_t =img_t.reshape((1,)+img_t.shape)\n",
        "            img_t =img_t.reshape((1,)+img_t.shape)   #become rank 4\n",
        "            if augmented == True:\n",
        "              img_g = augmentation(img_t,num_of_aug)\n",
        "            for n in range(img_t.shape[0]):\n",
        "                if augmented == True:\n",
        "                  imgs.append(img_g[n,:,:,:])\n",
        "                else:\n",
        "                  imgs.append(img_t[n,:,:,:])\n",
        "    name = 'y_'+ str(img_size) if label else 'x_'+ str(img_size)\n",
        "    if label == False:\n",
        "      name = name + '_' + scanType\n",
        "    else:\n",
        "      name = name + '_' + str(label_num)\n",
        "    np.save('{}/{}.npy'.format(destination_numpy, name), np.array(imgs).astype('float32'))  # save at home\n",
        "    print('Saved', len(files), 'to', name)\n",
        "    del imgs\n",
        "    gc.collect()\n",
        "    #return np.array(imgs)"
      ],
      "execution_count": 0,
      "outputs": []
    },
    {
      "cell_type": "code",
      "metadata": {
        "id": "TcLeeH36MWU6",
        "colab_type": "code",
        "colab": {}
      },
      "source": [
        "#function to read one subject data\n",
        "def create_data_onesubject_val(src, mask, count, label_num = 0, label=False):\n",
        "    files = glob.glob(src + mask, recursive=True)\n",
        "    #r.seed(9)\n",
        "    #r.shuffle(files)    # shuffle patients\n",
        "    k = len(files) - count -1\n",
        "    imgs = []\n",
        "    file = files[k]\n",
        "    print('Processing---', mask,'--',file)\n",
        "    \n",
        "    img = io.imread(file, plugin='simpleitk')\n",
        "    #img = trans.resize(img, resize, mode='constant')\n",
        "    if label:\n",
        "        if label_num == 5:\n",
        "            img[img != 0] = 1       #Region 1 => 1+2+3+4 complete tumor\n",
        "        if label_num == 1:\n",
        "            img[img != 1] = 0       #only left necrosis\n",
        "        if label_num == 2:\n",
        "            img[img == 2] = 0       #turn edema to 0\n",
        "            img[img != 0] = 1       #only keep necrosis, ET, NET = Tumor core\n",
        "        if label_num == 4:\n",
        "            img[img != 4] = 0       #only left ET\n",
        "            img[img == 4] = 1\n",
        "        img = img.astype('float32')\n",
        "    else:\n",
        "        img = (img-img.mean()) / img.std()      #normalization => zero mean   !!!care for the std=0 problem\n",
        "        img = img.astype('float32')\n",
        "    for slice in range(155):     #choose the slice range\n",
        "        img_t = img[slice,:,:]\n",
        "        img_t =img_t.reshape((1,)+img_t.shape)\n",
        "        img_t =img_t.reshape((1,)+img_t.shape)   #become rank 4\n",
        "        #img_g = augmentation(img_t,num_of_aug)\n",
        "        for n in range(img_t.shape[0]):\n",
        "            imgs.append(img_t[n,:,:,:])\n",
        "    \n",
        "    return np.array(imgs)"
      ],
      "execution_count": 0,
      "outputs": []
    },
    {
      "cell_type": "code",
      "metadata": {
        "id": "Bb1PxgjWQTyL",
        "colab_type": "code",
        "colab": {}
      },
      "source": [
        "def augmentation(scans,n):          #input img must be rank 4 \n",
        "    datagen = ImageDataGenerator(\n",
        "        featurewise_center=False,   \n",
        "        samplewise_center=False,  \n",
        "        featurewise_std_normalization=False,  \n",
        "        samplewise_std_normalization=False,  \n",
        "        zca_whitening=False,  \n",
        "        rotation_range=25,   \n",
        "        width_shift_range=0.1,  \n",
        "        height_shift_range=0.1,   \n",
        "        horizontal_flip=True,   \n",
        "        vertical_flip=True,  \n",
        "        zoom_range=0.1)\n",
        "    i=0\n",
        "    scans_g=scans.copy()\n",
        "    for batch in datagen.flow(scans, batch_size=1, seed=1000): \n",
        "        scans_g=np.vstack([scans_g,batch])\n",
        "        i += 1\n",
        "        if i == n:\n",
        "            break\n",
        "    '''    remember arg + labels  \n",
        "    i=0\n",
        "    labels_g=labels.copy()\n",
        "    for batch in datagen.flow(labels, batch_size=1, seed=1000): \n",
        "        labels_g=np.vstack([labels_g,batch])\n",
        "        i += 1\n",
        "        if i > n:\n",
        "            break    \n",
        "    return ((scans_g,labels_g))'''\n",
        "    return scans_g"
      ],
      "execution_count": 0,
      "outputs": []
    },
    {
      "cell_type": "code",
      "metadata": {
        "id": "AhCb-4cMoGqL",
        "colab_type": "code",
        "colab": {}
      },
      "source": [
        "def create_graph(history, epoch, path):\n",
        "  #create list all data in history\n",
        "  print(history.history.keys())\n",
        "  # summarize history for accuracy\n",
        "  plt.plot(history.history['dice_coef'])\n",
        "  plt.plot(history.history['val_dice_coef'])\n",
        "  plt.title('model dice_coef')\n",
        "  plt.ylabel('dice_coef')\n",
        "  plt.xlabel('epoch')\n",
        "  plt.legend(['train', 'validation'], loc='upper left')\n",
        "  plt.savefig('{}/dice_coef_{}.png'.format(path, epoch), dpi=300)\n",
        "  plt.show()\n",
        "  # summarize history for loss\n",
        "  plt.plot(history.history['loss'])\n",
        "  plt.plot(history.history['val_loss'])\n",
        "  plt.title('model loss')\n",
        "  plt.ylabel('loss')\n",
        "  plt.xlabel('epoch')\n",
        "  plt.legend(['train', 'test'], loc='upper left')\n",
        "  plt.savefig('{}/val_loss_{}.png'.format(path, epoch), dpi=300)\n",
        "  plt.show()\n",
        "\n",
        "  plt.close()"
      ],
      "execution_count": 0,
      "outputs": []
    },
    {
      "cell_type": "code",
      "metadata": {
        "id": "hVoEs0FAMWVK",
        "colab_type": "code",
        "colab": {}
      },
      "source": [
        "\n",
        "# our U-net for full tumor segmentation\n",
        "def leaky_relu(x): return tf.nn.leaky_relu(x, alpha=0.01)\n",
        "def dice_coef(y_true, y_pred):\n",
        "    y_true_f = K.flatten(y_true)\n",
        "    y_pred_f = K.flatten(y_pred)\n",
        "    intersection = K.sum(y_true_f * y_pred_f)\n",
        "    return (2. * intersection + smooth) / (K.sum(y_true_f) + K.sum(y_pred_f) + smooth)\n",
        "\n",
        "\n",
        "def dice_coef_loss(y_true, y_pred):\n",
        "    return 1-dice_coef(y_true, y_pred)\n",
        "    \n",
        "def unet_model(input=1):\n",
        "    inputs = Input((input, img_size, img_size))\n",
        "    conv1 = Conv2D(64, (3, 3), activation=leaky_relu, padding='same') (inputs)\n",
        "    batch1 = BatchNormalization(axis=1)(conv1)\n",
        "    conv1 = Conv2D(64, (3, 3), activation=leaky_relu, padding='same') (batch1)\n",
        "    batch1 = BatchNormalization(axis=1)(conv1)\n",
        "    pool1 = MaxPooling2D((2, 2)) (batch1)\n",
        "    \n",
        "    conv2 = Conv2D(128, (3, 3), activation=leaky_relu, padding='same') (pool1)\n",
        "    batch2 = BatchNormalization(axis=1)(conv2)\n",
        "    conv2 = Conv2D(128, (3, 3), activation=leaky_relu, padding='same') (batch2)\n",
        "    batch2 = BatchNormalization(axis=1)(conv2)\n",
        "    pool2 = MaxPooling2D((2, 2)) (batch2)\n",
        "    \n",
        "    conv3 = Conv2D(256, (3, 3), activation=leaky_relu, padding='same') (pool2)\n",
        "    batch3 = BatchNormalization(axis=1)(conv3)\n",
        "    conv3 = Conv2D(256, (3, 3), activation=leaky_relu, padding='same') (batch3)\n",
        "    batch3 = BatchNormalization(axis=1)(conv3)\n",
        "    pool3 = MaxPooling2D((2, 2)) (batch3)\n",
        "    \n",
        "    conv4 = Conv2D(512, (3, 3), activation=leaky_relu, padding='same') (pool3)\n",
        "    batch4 = BatchNormalization(axis=1)(conv4)\n",
        "    conv4 = Conv2D(512, (3, 3), activation=leaky_relu, padding='same') (batch4)\n",
        "    batch4 = BatchNormalization(axis=1)(conv4)\n",
        "    pool4 = MaxPooling2D(pool_size=(2, 2)) (batch4)\n",
        "    \n",
        "    conv5 = Conv2D(1024, (3, 3), activation=leaky_relu, padding='same') (pool4)\n",
        "    batch5 = BatchNormalization(axis=1)(conv5)\n",
        "    conv5 = Conv2D(1024, (3, 3), activation=leaky_relu, padding='same') (batch5)\n",
        "    batch5 = BatchNormalization(axis=1)(conv5)\n",
        "    \n",
        "    up6 = Conv2DTranspose(512, (2, 2), strides=(2, 2), padding='same') (batch5)\n",
        "    up6 = concatenate([up6, conv4], axis=1)\n",
        "    conv6 = Conv2D(512, (3, 3), activation=leaky_relu, padding='same') (up6)\n",
        "    batch6 = BatchNormalization(axis=1)(conv6)\n",
        "    conv6 = Conv2D(512, (3, 3), activation=leaky_relu, padding='same') (batch6)\n",
        "    batch6 = BatchNormalization(axis=1)(conv6)\n",
        "    \n",
        "    up7 = Conv2DTranspose(256, (2, 2), strides=(2, 2), padding='same') (batch6)\n",
        "    up7 = concatenate([up7, conv3], axis=1)\n",
        "    conv7 = Conv2D(256, (3, 3), activation=leaky_relu, padding='same') (up7)\n",
        "    batch7 = BatchNormalization(axis=1)(conv7)\n",
        "    conv7 = Conv2D(256, (3, 3), activation=leaky_relu, padding='same') (batch7)\n",
        "    batch7 = BatchNormalization(axis=1)(conv7)\n",
        "    \n",
        "    up8 = Conv2DTranspose(128, (2, 2), strides=(2, 2), padding='same') (batch7)\n",
        "    up8 = concatenate([up8, conv2], axis=1)\n",
        "    conv8 = Conv2D(128, (3, 3), activation=leaky_relu, padding='same') (up8)\n",
        "    batch8 = BatchNormalization(axis=1)(conv8)\n",
        "    conv8 = Conv2D(128, (3, 3), activation=leaky_relu, padding='same') (batch8)\n",
        "    batch8 = BatchNormalization(axis=1)(conv8)\n",
        "    \n",
        "    up9 = Conv2DTranspose(64, (2, 2), strides=(2, 2), padding='same') (batch8)\n",
        "    up9 = concatenate([up9, conv1], axis=1)\n",
        "    conv9 = Conv2D(64, (3, 3), activation=leaky_relu, padding='same') (up9)\n",
        "    batch9 = BatchNormalization(axis=1)(conv9)\n",
        "    conv9 = Conv2D(64, (3, 3), activation=leaky_relu, padding='same') (batch9)\n",
        "    batch9 = BatchNormalization(axis=1)(conv9)\n",
        "\n",
        "    conv10 = Conv2D(1, (1, 1), activation='sigmoid')(batch9)\n",
        "\n",
        "    model = Model(inputs=[inputs], outputs=[conv10])\n",
        "\n",
        "    model.compile(optimizer=Adam(lr=LR), loss=dice_coef_loss, metrics=[dice_coef])\n",
        "\n",
        "  \n",
        "    return model"
      ],
      "execution_count": 0,
      "outputs": []
    },
    {
      "cell_type": "code",
      "metadata": {
        "id": "JmGcxYDMRZxW",
        "colab_type": "code",
        "colab": {}
      },
      "source": [
        "\n",
        "augmented = True\n",
        "#flair\n",
        "if os.path.isfile('{}/x_{}_{}.npy'.format(destination_numpy, img_size, \"flair\")) == False:\n",
        "  create_data(dataset_path, '**/*_flair.nii.gz', scanType=\"flair\", label=False, augmented=augmented, resize=(155,img_size,img_size))\n",
        "\n",
        "#t2\n",
        "if os.path.isfile('{}/x_{}_{}.npy'.format(destination_numpy, img_size, \"t2\")) == False:\n",
        "  create_data(dataset_path, '**/*_t2.nii.gz', scanType=\"t2\", label=False, augmented=augmented, resize=(155,img_size,img_size))\n",
        "\n",
        "\n",
        "#segmentation Full Tumor\n",
        "if os.path.isfile('{}/y_{}_{}.npy'.format(destination_numpy, img_size, 5)) == False:\n",
        "  create_data(dataset_path, '**/*_seg.nii.gz', label=True, label_num = 5, augmented=augmented, resize=(155,img_size,img_size))\n",
        "\n",
        "#Load other module BRATS (t1ce and ET, Core GT)\n",
        "#t1\n",
        "if os.path.isfile('{}/x_{}_{}.npy'.format(destination_numpy, img_size, \"t1\")) == False:\n",
        "  create_data(dataset_path, '**/*_t1.nii.gz', scanType=\"t1\", label=False, augmented=augmented, resize=(155,img_size,img_size))\n",
        "\n",
        "#t1ce\n",
        "if os.path.isfile('{}/x_{}_{}.npy'.format(destination_numpy, img_size, \"t1ce\")) == False:\n",
        "  create_data(dataset_path, '**/*_t1ce.nii.gz', scanType=\"t1ce\", label=False, augmented=augmented, resize=(155,img_size,img_size))\n",
        "\n",
        "#segmentation Core Tumor\n",
        "if os.path.isfile('{}/y_{}_{}.npy'.format(destination_numpy,img_size, 2)) == False:\n",
        "  create_data(dataset_path, '**/*_seg.nii.gz', label=True, label_num = 2, augmented=augmented, resize=(155,img_size,img_size))\n",
        "\n",
        "#segmentation ET Tumor\n",
        "if os.path.isfile('{}/y_{}_{}.npy'.format(destination_numpy, img_size, 4)) == False:\n",
        "  create_data(dataset_path, '**/*_seg.nii.gz', label=True, label_num = 4, augmented=augmented, resize=(155,img_size,img_size))\n",
        "\n"
      ],
      "execution_count": 0,
      "outputs": []
    },
    {
      "cell_type": "code",
      "metadata": {
        "id": "ovlxK0oaqIqA",
        "colab_type": "code",
        "colab": {}
      },
      "source": [
        "Flair = np.load('{}/x_{}_{}.npy'.format(destination_numpy, img_size, \"flair\"))\n",
        "T1 = np.load('{}/x_{}_{}.npy'.format(destination_numpy, img_size, \"t1\"))\n",
        "T2 = np.load('{}/x_{}_{}.npy'.format(destination_numpy, img_size, \"t2\"))\n",
        "T1c = np.load('{}/x_{}_{}.npy'.format(destination_numpy, img_size, \"t1ce\"))\n",
        "\n",
        "x_train = np.hstack((Flair, T1, T2, T2c))\n",
        "del Flair\n",
        "del T1\n",
        "del T2\n",
        "del T1c\n",
        "gc.collect()\n",
        "y_train = np.load('{}/y_{}_{}.npy'.format(destination_numpy, img_size, 5))\n"
      ],
      "execution_count": 0,
      "outputs": []
    },
    {
      "cell_type": "code",
      "metadata": {
        "id": "iechoHXoMWVO",
        "colab_type": "code",
        "outputId": "63a27b8a-2d52-454e-dfa3-c93411bfe533",
        "colab": {
          "base_uri": "https://localhost:8080/",
          "height": 1000
        }
      },
      "source": [
        "checkpoint_path = '{}/{}/weight_full_best.h5'.format(destination_model, experiment)\n",
        "isBuildNewModel = True if os.path.isfile(checkpoint_path) == False else False\n",
        "model_checkpoint = ModelCheckpoint(checkpoint_path, monitor='val_dice_coef', verbose=1, save_best_only=True, mode='max')\n",
        "\n",
        "\n",
        "model = unet_model(2)\n",
        "if isBuildNewModel == True:\n",
        "  history = model.fit(x_train, y_train, batch_size=batch_size, callbacks=[model_checkpoint], validation_split=0.2, epochs= num_epoch, verbose=verbose, shuffle=True)\n",
        "  create_graph(history, start_epoch, '{}/full'.format(result_destination))\n",
        "  pandas.DataFrame(history.history).to_csv(\"{}/history_full_{}.csv\".format(result_destination, start_epoch))\n",
        "  #model.save(model_checkpoint)\n",
        "else:\n",
        "  model = load_model(checkpoint_path, custom_objects={'dice_coef_loss': dice_coef_loss, 'dice_coef': dice_coef, 'leaky_relu': leaky_relu})\n",
        "  if continue_training == False :\n",
        "    scores = model.evaluate(x_train, y_train, verbose = 0)\n",
        "    print(\"%s: %.2f%%\" % (model.metrics_names[0], scores[0]))\n",
        "    print(\"%s: %.2f%%\" % (model.metrics_names[1], scores[1]*100))\n",
        "  else:\n",
        "    history = model.fit(x_train, y_train, batch_size=batch_size, callbacks=[model_checkpoint], validation_split=0.2, epochs= num_epoch, initial_epoch=start_epoch, verbose=verbose, shuffle=True)\n",
        "    create_graph(history, start_epoch, '{}/full'.format(result_destination))\n",
        "    pandas.DataFrame(history.history).to_csv(\"{}/history_full_{}.csv\".format(result_destination, start_epoch))"
      ],
      "execution_count": 0,
      "outputs": [
        {
          "output_type": "stream",
          "text": [
            "WARNING:tensorflow:From /usr/local/lib/python3.6/dist-packages/keras/backend/tensorflow_backend.py:66: The name tf.get_default_graph is deprecated. Please use tf.compat.v1.get_default_graph instead.\n",
            "\n",
            "WARNING:tensorflow:From /usr/local/lib/python3.6/dist-packages/keras/backend/tensorflow_backend.py:541: The name tf.placeholder is deprecated. Please use tf.compat.v1.placeholder instead.\n",
            "\n",
            "WARNING:tensorflow:From /usr/local/lib/python3.6/dist-packages/keras/backend/tensorflow_backend.py:4432: The name tf.random_uniform is deprecated. Please use tf.random.uniform instead.\n",
            "\n",
            "WARNING:tensorflow:From /usr/local/lib/python3.6/dist-packages/keras/backend/tensorflow_backend.py:190: The name tf.get_default_session is deprecated. Please use tf.compat.v1.get_default_session instead.\n",
            "\n",
            "WARNING:tensorflow:From /usr/local/lib/python3.6/dist-packages/keras/backend/tensorflow_backend.py:197: The name tf.ConfigProto is deprecated. Please use tf.compat.v1.ConfigProto instead.\n",
            "\n",
            "WARNING:tensorflow:From /usr/local/lib/python3.6/dist-packages/keras/backend/tensorflow_backend.py:203: The name tf.Session is deprecated. Please use tf.compat.v1.Session instead.\n",
            "\n",
            "WARNING:tensorflow:From /usr/local/lib/python3.6/dist-packages/keras/backend/tensorflow_backend.py:207: The name tf.global_variables is deprecated. Please use tf.compat.v1.global_variables instead.\n",
            "\n",
            "WARNING:tensorflow:From /usr/local/lib/python3.6/dist-packages/keras/backend/tensorflow_backend.py:216: The name tf.is_variable_initialized is deprecated. Please use tf.compat.v1.is_variable_initialized instead.\n",
            "\n",
            "WARNING:tensorflow:From /usr/local/lib/python3.6/dist-packages/keras/backend/tensorflow_backend.py:223: The name tf.variables_initializer is deprecated. Please use tf.compat.v1.variables_initializer instead.\n",
            "\n",
            "WARNING:tensorflow:From /usr/local/lib/python3.6/dist-packages/keras/backend/tensorflow_backend.py:2041: The name tf.nn.fused_batch_norm is deprecated. Please use tf.compat.v1.nn.fused_batch_norm instead.\n",
            "\n",
            "WARNING:tensorflow:From /usr/local/lib/python3.6/dist-packages/keras/backend/tensorflow_backend.py:148: The name tf.placeholder_with_default is deprecated. Please use tf.compat.v1.placeholder_with_default instead.\n",
            "\n",
            "WARNING:tensorflow:From /usr/local/lib/python3.6/dist-packages/keras/backend/tensorflow_backend.py:4267: The name tf.nn.max_pool is deprecated. Please use tf.nn.max_pool2d instead.\n",
            "\n",
            "WARNING:tensorflow:From /usr/local/lib/python3.6/dist-packages/keras/optimizers.py:793: The name tf.train.Optimizer is deprecated. Please use tf.compat.v1.train.Optimizer instead.\n",
            "\n",
            "WARNING:tensorflow:From /usr/local/lib/python3.6/dist-packages/keras/backend/tensorflow_backend.py:1033: The name tf.assign_add is deprecated. Please use tf.compat.v1.assign_add instead.\n",
            "\n",
            "WARNING:tensorflow:From /usr/local/lib/python3.6/dist-packages/keras/backend/tensorflow_backend.py:1020: The name tf.assign is deprecated. Please use tf.compat.v1.assign instead.\n",
            "\n",
            "Train on 15960 samples, validate on 3990 samples\n",
            "Epoch 21/40\n",
            "15960/15960 [==============================] - 512s 32ms/step - loss: 0.0481 - dice_coef: 0.9519 - val_loss: 0.3974 - val_dice_coef: 0.6026\n",
            "\n",
            "Epoch 00021: saving model to /content/gdrive/My Drive/model/Bias/weight_full_best.h5\n",
            "Epoch 22/40\n",
            "15960/15960 [==============================] - 501s 31ms/step - loss: 0.0481 - dice_coef: 0.9519 - val_loss: 0.2867 - val_dice_coef: 0.7133\n",
            "\n",
            "Epoch 00022: saving model to /content/gdrive/My Drive/model/Bias/weight_full_best.h5\n",
            "Epoch 23/40\n",
            "15960/15960 [==============================] - 501s 31ms/step - loss: 0.0466 - dice_coef: 0.9534 - val_loss: 0.3819 - val_dice_coef: 0.6181\n",
            "\n",
            "Epoch 00023: saving model to /content/gdrive/My Drive/model/Bias/weight_full_best.h5\n",
            "Epoch 24/40\n",
            "15960/15960 [==============================] - 500s 31ms/step - loss: 0.0460 - dice_coef: 0.9540 - val_loss: 0.3900 - val_dice_coef: 0.6100\n",
            "\n",
            "Epoch 00024: saving model to /content/gdrive/My Drive/model/Bias/weight_full_best.h5\n",
            "Epoch 25/40\n",
            "15960/15960 [==============================] - 499s 31ms/step - loss: 0.0458 - dice_coef: 0.9542 - val_loss: 0.3086 - val_dice_coef: 0.6914\n",
            "\n",
            "Epoch 00025: saving model to /content/gdrive/My Drive/model/Bias/weight_full_best.h5\n",
            "Epoch 26/40\n",
            "15960/15960 [==============================] - 500s 31ms/step - loss: 0.0448 - dice_coef: 0.9552 - val_loss: 0.2885 - val_dice_coef: 0.7115\n",
            "\n",
            "Epoch 00026: saving model to /content/gdrive/My Drive/model/Bias/weight_full_best.h5\n",
            "Epoch 27/40\n",
            "15960/15960 [==============================] - 500s 31ms/step - loss: 0.0438 - dice_coef: 0.9562 - val_loss: 0.2751 - val_dice_coef: 0.7249\n",
            "\n",
            "Epoch 00027: saving model to /content/gdrive/My Drive/model/Bias/weight_full_best.h5\n",
            "Epoch 28/40\n",
            "15960/15960 [==============================] - 500s 31ms/step - loss: 0.0442 - dice_coef: 0.9558 - val_loss: 0.4224 - val_dice_coef: 0.5776\n",
            "\n",
            "Epoch 00028: saving model to /content/gdrive/My Drive/model/Bias/weight_full_best.h5\n",
            "Epoch 29/40\n",
            "15960/15960 [==============================] - 500s 31ms/step - loss: 0.0429 - dice_coef: 0.9571 - val_loss: 0.3702 - val_dice_coef: 0.6298\n",
            "\n",
            "Epoch 00029: saving model to /content/gdrive/My Drive/model/Bias/weight_full_best.h5\n",
            "Epoch 30/40\n",
            "15960/15960 [==============================] - 500s 31ms/step - loss: 0.0420 - dice_coef: 0.9580 - val_loss: 0.2962 - val_dice_coef: 0.7038\n",
            "\n",
            "Epoch 00030: saving model to /content/gdrive/My Drive/model/Bias/weight_full_best.h5\n",
            "Epoch 31/40\n",
            "15960/15960 [==============================] - 500s 31ms/step - loss: 0.0417 - dice_coef: 0.9583 - val_loss: 0.2625 - val_dice_coef: 0.7375\n",
            "\n",
            "Epoch 00031: saving model to /content/gdrive/My Drive/model/Bias/weight_full_best.h5\n",
            "Epoch 32/40\n",
            "15960/15960 [==============================] - 500s 31ms/step - loss: 0.0415 - dice_coef: 0.9585 - val_loss: 0.3416 - val_dice_coef: 0.6584\n",
            "\n",
            "Epoch 00032: saving model to /content/gdrive/My Drive/model/Bias/weight_full_best.h5\n",
            "Epoch 33/40\n",
            "15960/15960 [==============================] - 500s 31ms/step - loss: 0.0407 - dice_coef: 0.9593 - val_loss: 0.2762 - val_dice_coef: 0.7238\n",
            "\n",
            "Epoch 00033: saving model to /content/gdrive/My Drive/model/Bias/weight_full_best.h5\n",
            "Epoch 34/40\n",
            "15960/15960 [==============================] - 500s 31ms/step - loss: 0.0407 - dice_coef: 0.9593 - val_loss: 0.3608 - val_dice_coef: 0.6392\n",
            "\n",
            "Epoch 00034: saving model to /content/gdrive/My Drive/model/Bias/weight_full_best.h5\n",
            "Epoch 35/40\n",
            "15960/15960 [==============================] - 500s 31ms/step - loss: 0.0407 - dice_coef: 0.9593 - val_loss: 0.3079 - val_dice_coef: 0.6921\n",
            "\n",
            "Epoch 00035: saving model to /content/gdrive/My Drive/model/Bias/weight_full_best.h5\n",
            "Epoch 36/40\n",
            "15960/15960 [==============================] - 500s 31ms/step - loss: 0.0394 - dice_coef: 0.9606 - val_loss: 0.3110 - val_dice_coef: 0.6890\n",
            "\n",
            "Epoch 00036: saving model to /content/gdrive/My Drive/model/Bias/weight_full_best.h5\n",
            "Epoch 37/40\n",
            "15960/15960 [==============================] - 500s 31ms/step - loss: 0.0394 - dice_coef: 0.9606 - val_loss: 0.3484 - val_dice_coef: 0.6516\n",
            "\n",
            "Epoch 00037: saving model to /content/gdrive/My Drive/model/Bias/weight_full_best.h5\n",
            "Epoch 38/40\n",
            "15960/15960 [==============================] - 500s 31ms/step - loss: 0.0396 - dice_coef: 0.9604 - val_loss: 0.2940 - val_dice_coef: 0.7060\n",
            "\n",
            "Epoch 00038: saving model to /content/gdrive/My Drive/model/Bias/weight_full_best.h5\n",
            "Epoch 39/40\n",
            "15960/15960 [==============================] - 500s 31ms/step - loss: 0.0387 - dice_coef: 0.9613 - val_loss: 0.2856 - val_dice_coef: 0.7144\n",
            "\n",
            "Epoch 00039: saving model to /content/gdrive/My Drive/model/Bias/weight_full_best.h5\n",
            "Epoch 40/40\n",
            "15960/15960 [==============================] - 500s 31ms/step - loss: 0.0390 - dice_coef: 0.9610 - val_loss: 0.3248 - val_dice_coef: 0.6752\n",
            "\n",
            "Epoch 00040: saving model to /content/gdrive/My Drive/model/Bias/weight_full_best.h5\n",
            "dict_keys(['val_loss', 'val_dice_coef', 'loss', 'dice_coef'])\n"
          ],
          "name": "stdout"
        },
        {
          "output_type": "display_data",
          "data": {
            "image/png": "[encoded data removed]",
            "text/plain": [
              "<Figure size 432x288 with 1 Axes>"
            ]
          },
          "metadata": {
            "tags": []
          }
        },
        {
          "output_type": "display_data",
          "data": {
            "image/png": "[encoded data removed]",
            "text/plain": [
              "<Figure size 432x288 with 1 Axes>"
            ]
          },
          "metadata": {
            "tags": []
          }
        }
      ]
    },
    {
      "cell_type": "code",
      "metadata": {
        "id": "s39_gVNgBI3S",
        "colab_type": "code",
        "colab": {}
      },
      "source": [
        "del y_train\n",
        "#del x_train\n",
        "gc.collect()\n",
        "\n",
        "#T1c = np.load('{}/x_{}_{}.npy'.format(destination_numpy, img_size, \"t1ce\"))\n",
        "#x_train = np.hstack(( T2, T1c))\n",
        "#del T2\n",
        "#del T1c\n",
        "#gc.collect()"
      ],
      "execution_count": 0,
      "outputs": []
    },
    {
      "cell_type": "code",
      "metadata": {
        "id": "8vuu1rALnC5-",
        "colab_type": "code",
        "colab": {}
      },
      "source": [
        "y_train = np.load('{}/y_{}_{}.npy'.format(destination_numpy, img_size, 4))\n",
        "checkpoint_path = '{}/{}/weight_et_best.h5'.format(destination_model, experiment)\n",
        "isBuildNewModel = True if os.path.isfile(checkpoint_path) == False else False\n",
        "model_checkpoint = ModelCheckpoint(checkpoint_path, monitor='val_dice_coef', verbose=1, save_best_only=True, mode='max')\n",
        "\n",
        "model_ET = unet_model(2)\n",
        "if isBuildNewModel == True:\n",
        "  history = model_ET.fit(x_train, y_train, batch_size=batch_size, callbacks=[model_checkpoint], validation_split=0.2, epochs= num_epoch, verbose=verbose, shuffle=True)\n",
        "  create_graph(history, start_epoch, '{}/et'.format(result_destination))\n",
        "  pandas.DataFrame(history.history).to_csv(\"{}/history_et_{}.csv\".format(result_destination, start_epoch))\n",
        "else:\n",
        "  model_ET = load_model(checkpoint_path, custom_objects={'dice_coef_loss': dice_coef_loss, 'dice_coef': dice_coef, 'leaky_relu': leaky_relu})\n",
        "  if continue_training == False :\n",
        "    scores = model_ET.evaluate(x_train, y_train, verbose = 0)\n",
        "    print(\"%s: %.2f%%\" % (model_ET.metrics_names[0], scores[0]))\n",
        "    print(\"%s: %.2f%%\" % (model_ET.metrics_names[1], scores[1]*100))\n",
        "  else:\n",
        "    history = model_ET.fit(x_train, y_train, batch_size=batch_size, callbacks=[model_checkpoint], validation_split=0.2, epochs= num_epoch, initial_epoch=start_epoch, verbose=verbose, shuffle=True)\n",
        "    create_graph(history, start_epoch, '{}/et'.format(result_destination))\n",
        "    pandas.DataFrame(history.history).to_csv(\"{}/history_et_{}.csv\".format(result_destination, start_epoch))"
      ],
      "execution_count": 0,
      "outputs": []
    },
    {
      "cell_type": "code",
      "metadata": {
        "id": "KubxGoAHOM7r",
        "colab_type": "code",
        "colab": {}
      },
      "source": [
        "del y_train\n",
        "gc.collect()"
      ],
      "execution_count": 0,
      "outputs": []
    },
    {
      "cell_type": "code",
      "metadata": {
        "id": "_wq1RcUF5TyO",
        "colab_type": "code",
        "colab": {}
      },
      "source": [
        "y_train = np.load('{}/y_{}_{}.npy'.format(destination_numpy, img_size, 2))\n",
        "checkpoint_path = '{}/{}/weight_core_best.h5'.format(destination_model, experiment)\n",
        "isBuildNewModel = True if os.path.isfile(checkpoint_path) == False else False\n",
        "model_checkpoint = ModelCheckpoint(checkpoint_path, monitor='val_dice_coef', verbose=1, save_best_only=True, mode='max')\n",
        "\n",
        "model_core = unet_model(2)\n",
        "if isBuildNewModel == True:\n",
        "  history = model_core.fit(x_train, y_train, batch_size=batch_size, callbacks=[model_checkpoint], validation_split=0.2, epochs= num_epoch, verbose=verbose, shuffle=True)\n",
        "  create_graph(history, start_epoch, '{}/core'.format(result_destination))\n",
        "  pandas.DataFrame(history.history).to_csv(\"{}/history_core_{}.csv\".format(result_destination, start_epoch))\n",
        "else:\n",
        "  model_core = load_model(checkpoint_path, custom_objects={'dice_coef_loss': dice_coef_loss, 'dice_coef': dice_coef, 'leaky_relu': leaky_relu})\n",
        "  if continue_training == False :\n",
        "    scores = model_core.evaluate(x_train, y_train, verbose = 0)\n",
        "    print(\"%s: %.2f%%\" % (model_core.metrics_names[0], scores[0]))\n",
        "    print(\"%s: %.2f%%\" % (model_core.metrics_names[1], scores[1]*100))\n",
        "  else:\n",
        "    history = model_core.fit(x_train, y_train, batch_size=batch_size, callbacks=[model_checkpoint], validation_split=0.2, epochs= num_epoch, initial_epoch=start_epoch, verbose=verbose, shuffle=True)\n",
        "    create_graph(history, start_epoch, '{}/core'.format(result_destination))\n",
        "    pandas.DataFrame(history.history).to_csv(\"{}/history_core_{}.csv\".format(result_destination, start_epoch))"
      ],
      "execution_count": 0,
      "outputs": []
    },
    {
      "cell_type": "code",
      "metadata": {
        "id": "YgtVa5jSXAH5",
        "colab_type": "code",
        "colab": {}
      },
      "source": [
        "del x_train\n",
        "del y_train\n",
        "gc.collect()"
      ],
      "execution_count": 0,
      "outputs": []
    },
    {
      "cell_type": "code",
      "metadata": {
        "id": "badR6dBtXaoG",
        "colab_type": "code",
        "colab": {}
      },
      "source": [
        "#read one subject to show slices\n",
        "#path_hgg = '{}/HGG/'.format(dataset_path)\n",
        "path_hgg = \"/content/gdrive/My Drive/Thesis/MICCAI_BraTS17_Data_Training/HGG/Brats17_TCIA_430_1/\"\n",
        "count = 1 #number of files on HGG\n",
        "pul_seq = 'flair'\n",
        "Flair_Predict = create_data_onesubject_val(path_hgg, '**/*{}.nii.gz'.format(pul_seq), count, label=False)\n",
        "pul_seq = 't1ce'\n",
        "T1c_Predict = create_data_onesubject_val(path_hgg, '**/*{}.nii.gz'.format(pul_seq), count, label=False)\n",
        "pul_seq = 't1'\n",
        "T1_Predict = create_data_onesubject_val(path_hgg, '**/*{}.nii.gz'.format(pul_seq), count, label=False)\n",
        "pul_seq = 't2'\n",
        "T2_Predict = create_data_onesubject_val(path_hgg, '**/*{}.nii.gz'.format(pul_seq), count, label=False)\n",
        "\n",
        "# Full Segmentation Tumor\n",
        "Label_full_Predict = create_data_onesubject_val(path_hgg, '**/*seg.nii.gz', count, label_num = 5, label=True)\n",
        "#Core Segmentation Tumor\n",
        "Label_core_Predict = create_data_onesubject_val(path_hgg, '**/*seg.nii.gz', count, label_num = 2, label=True)\n",
        "#ET Segmentation Tumor\n",
        "Label_ET_Predict = create_data_onesubject_val(path_hgg, '**/*seg.nii.gz', count, label_num = 4, label=True)\n",
        "#Join All Segmentation\n",
        "Label_all_Predict = create_data_onesubject_val(path_hgg, '**/*seg.nii.gz', count, label_num = 3, label=True)\n",
        "\n",
        "fig = plt.figure(figsize=(15,10))\n",
        "\n",
        "plt.subplot(241)\n",
        "plt.title('T1')\n",
        "plt.axis('off')\n",
        "plt.imshow(T1_Predict[90, 0, :, :],cmap='gray')\n",
        "\n",
        "plt.subplot(242)\n",
        "plt.title('T2')\n",
        "plt.axis('off')\n",
        "plt.imshow(T2_Predict[90, 0, :, :],cmap='gray')\n",
        "    \n",
        "plt.subplot(243)\n",
        "plt.title('Flair')\n",
        "plt.axis('off')\n",
        "plt.imshow(Flair_Predict[90, 0, :, :],cmap='gray')\n",
        "\n",
        "plt.subplot(244)\n",
        "plt.title('T1c')\n",
        "plt.axis('off')\n",
        "plt.imshow(T1c_Predict[90, 0, :, :],cmap='gray')\n",
        "\n",
        "plt.subplot(245)\n",
        "plt.title('Ground Truth(Full)')\n",
        "plt.axis('off')\n",
        "plt.imshow(Label_full_Predict[90, 0, :, :],cmap='gray')\n",
        "\n",
        "plt.subplot(246)\n",
        "plt.title('Ground Truth(Core)')\n",
        "plt.axis('off')\n",
        "plt.imshow(Label_core_Predict[90, 0, :, :],cmap='gray')\n",
        "\n",
        "plt.subplot(247)\n",
        "plt.title('Ground Truth(ET)')\n",
        "plt.axis('off')\n",
        "plt.imshow(Label_ET_Predict[90, 0, :, :],cmap='gray')\n",
        "\n",
        "plt.subplot(248)\n",
        "plt.title('Ground Truth(All)')\n",
        "plt.axis('off')\n",
        "plt.imshow(Label_all_Predict[90, 0, :, :],cmap='gray')\n",
        "\n",
        "plt.show()\n",
        "fig.savefig('{}/tumor.png'.format(result_destination), dpi=300)\n",
        "plt.close(fig)"
      ],
      "execution_count": 0,
      "outputs": []
    },
    {
      "cell_type": "markdown",
      "metadata": {
        "id": "YhG5yGWeaUQ8",
        "colab_type": "text"
      },
      "source": [
        ""
      ]
    },
    {
      "cell_type": "code",
      "metadata": {
        "id": "PnquyjgaCUQ6",
        "colab_type": "code",
        "colab": {}
      },
      "source": [
        "x1 = np.zeros((1,2,240,240),np.float32)\n",
        "x1[:,:1,:,:] = Flair_Predict[89:90,:,:,:]  #choosing 90th slice as example\n",
        "x1[:,1:,:,:] = T2_Predict[89:90,:,:,:] \n",
        "pred_full = model.predict(x1)\n",
        "\n",
        "x2 = np.zeros((1,2,240,240),np.float32)\n",
        "x2[:,:1,:,:] = T2_Predict[89:90,:,:,:]  #choosing 90th slice as example\n",
        "x2[:,1:,:,:] = T1c_Predict[89:90,:,:,:] \n",
        "pred_full = model.predict(x2)\n",
        "\n",
        "pred_core = model_core.predict(x2)\n",
        "pred_ET = model_ET.predict(x2)"
      ],
      "execution_count": 0,
      "outputs": []
    },
    {
      "cell_type": "code",
      "metadata": {
        "id": "xlueyGQyMWVu",
        "colab_type": "code",
        "colab": {}
      },
      "source": [
        "def paint_color_algo(pred_full, pred_core , pred_ET ):   #input image is [n,1, y, x]\n",
        "    # first put the pred_full on T1c\n",
        "    pred_full[pred_full > 0.2] = 2      #240x240\n",
        "    pred_full[pred_full != 2] = 0\n",
        "    pred_core[pred_core > 0.2] = 1      #64x64\n",
        "    pred_core[pred_core != 1] = 0\n",
        "    pred_ET[pred_ET > 0.2] = 4          #64x64\n",
        "    pred_ET[pred_ET != 4] = 0\n",
        "\n",
        "    total = np.zeros((1,240,240),np.float32)  \n",
        "    total[:,:,:] = pred_full[:,:,:]\n",
        "    for i in range(pred_core.shape[0]):\n",
        "        for j in range(240):\n",
        "            for k in range(240):\n",
        "                if pred_core[i,j,k] != 0 and pred_full[i,j,k] !=0:\n",
        "                    total[i,j,k] = pred_core[i,j,k]\n",
        "                if pred_ET[i,j,k] != 0 and pred_full[i,j,k] !=0:\n",
        "                    total[i,j,k] = pred_ET[i,j,k]\n",
        "                \n",
        "    \n",
        "    \n",
        "    return total"
      ],
      "execution_count": 0,
      "outputs": []
    },
    {
      "cell_type": "code",
      "metadata": {
        "id": "cw0lGREzMWVw",
        "colab_type": "code",
        "colab": {}
      },
      "source": [
        "tmp = paint_color_algo(pred_full[0,:,:,:], pred_core[0,:,:,:], pred_ET[0,:,:,:])\n",
        "\n",
        "core = np.zeros((1,240,240),np.float32)\n",
        "ET = np.zeros((1,240,240),np.float32)\n",
        "core[:,:,:] = tmp[:,:,:]\n",
        "ET[:,:,:] = tmp[:,:,:]\n",
        "core[core == 4] = 1\n",
        "core[core != 1] = 0\n",
        "ET[ET != 4] = 0"
      ],
      "execution_count": 0,
      "outputs": []
    },
    {
      "cell_type": "code",
      "metadata": {
        "id": "9xP88eBbMWV0",
        "colab_type": "code",
        "colab": {}
      },
      "source": [
        "fig = plt.figure(figsize=(15,10))\n",
        "\n",
        "plt.subplot(341)\n",
        "plt.title('T1')\n",
        "plt.axis('off')\n",
        "plt.imshow(T1_Predict[90, 0, :, :],cmap='gray')\n",
        "\n",
        "plt.subplot(342)\n",
        "plt.title('T2')\n",
        "plt.axis('off')\n",
        "plt.imshow(T2_Predict[90, 0, :, :],cmap='gray')\n",
        "    \n",
        "plt.subplot(343)\n",
        "plt.title('Flair')\n",
        "plt.axis('off')\n",
        "plt.imshow(Flair_Predict[90, 0, :, :],cmap='gray')\n",
        "\n",
        "plt.subplot(344)\n",
        "plt.title('T1c')\n",
        "plt.axis('off')\n",
        "plt.imshow(T1c_Predict[90, 0, :, :],cmap='gray')\n",
        "\n",
        "plt.subplot(345)\n",
        "plt.title('Ground Truth(Full)')\n",
        "plt.axis('off')\n",
        "plt.imshow(Label_full_Predict[90, 0, :, :],cmap='gray')\n",
        "\n",
        "plt.subplot(346)\n",
        "plt.title('Ground Truth(Core)')\n",
        "plt.axis('off')\n",
        "plt.imshow(Label_core_Predict[90, 0, :, :],cmap='gray')\n",
        "\n",
        "plt.subplot(347)\n",
        "plt.title('Ground Truth(ET)')\n",
        "plt.axis('off')\n",
        "plt.imshow(Label_ET_Predict[90, 0, :, :],cmap='gray')\n",
        "\n",
        "plt.subplot(348)\n",
        "plt.title('Ground Truth(All)')\n",
        "plt.axis('off')\n",
        "plt.imshow(Label_all_Predict[90, 0, :, :],cmap='gray')\n",
        "\n",
        "plt.subplot(349)\n",
        "plt.title('Prediction (Full)')\n",
        "plt.axis('off')\n",
        "plt.imshow(pred_full[0, 0, :, :],cmap='gray')\n",
        "\n",
        "plt.subplot(3,4,10)\n",
        "plt.title('Prediction (Core)')\n",
        "plt.axis('off')\n",
        "plt.imshow(core[0, :, :],cmap='gray')\n",
        "\n",
        "plt.subplot(3,4,11)\n",
        "plt.title('Prediction (ET)')\n",
        "plt.axis('off')\n",
        "plt.imshow(ET[0, :, :],cmap='gray')\n",
        "\n",
        "plt.subplot(3,4,12)\n",
        "plt.title('Prediction (All)')\n",
        "plt.axis('off')\n",
        "plt.imshow(tmp[0, :, :],cmap='gray')\n",
        "\n",
        "plt.show()\n",
        "\n",
        "fig.savefig('{}/all_segmentation_{}.png'.format(result_destination, start_epoch))\n",
        "plt.close(fig)"
      ],
      "execution_count": 0,
      "outputs": []
    },
    {
      "cell_type": "code",
      "metadata": {
        "id": "RIpbpfgmMWV3",
        "colab_type": "code",
        "colab": {}
      },
      "source": [
        ""
      ],
      "execution_count": 0,
      "outputs": []
    }
  ]
}